{
 "cells": [
  {
   "cell_type": "code",
   "execution_count": 1,
   "metadata": {},
   "outputs": [],
   "source": [
    "import os\n",
    "import json\n",
    "import shutil"
   ]
  },
  {
   "cell_type": "code",
   "execution_count": 2,
   "metadata": {},
   "outputs": [],
   "source": [
    "# 변수 선언\n",
    "\n",
    "# 데이터셋의 루트 디렉토리 설정\n",
    "root_dir = \"dataset/2DBB\"\n",
    "preprocessed_root_dir = \"dataset/Preprocessed_2DBB\"\n",
    "\n",
    "# 하위 디렉토리들\n",
    "sub_dirs = [\"training\", \"validation\", \"test\"]\n",
    "\n",
    "data_num = 0\n",
    "data_num_count = 0\n",
    "\n",
    "class_mapping = {\n",
    "    \"car\": 0,\n",
    "    \"bus\": 1,\n",
    "    \"truck\": 2,\n",
    "    \"special vehicle\": 3,\n",
    "    \"motorcycle\": 4,\n",
    "    \"bicycle\": 5,\n",
    "    \"personal mobility\": 6,\n",
    "    \"person\": 7,\n",
    "    \"Traffic_light\": 8,\n",
    "    \"Traffic_sign\": 9\n",
    "}\n",
    "\n",
    "yaml_class = [\n",
    "    \"car\",\n",
    "    \"bus\",\n",
    "    \"truck\",\n",
    "    \"special vehicle\",\n",
    "    \"motorcycle\",\n",
    "    \"bicycle\",\n",
    "    \"personal mobility\",\n",
    "    \"person\",\n",
    "    \"Traffic_light\",\n",
    "    \"Traffic_sign\"\n",
    "]"
   ]
  },
  {
   "cell_type": "code",
   "execution_count": 3,
   "metadata": {},
   "outputs": [
    {
     "name": "stdout",
     "output_type": "stream",
     "text": [
      "bbox 데이터 532152 중 532152개 정상(좌표 4개로 이루어짐)\n",
      "bbox 데이터에 문제 없음\n"
     ]
    }
   ],
   "source": [
    "# 모든 JSON 파일을 탐색하고 'Annotation' 값을 추출 후 'data'의 좌표값이 4개인지 확인\n",
    "\n",
    "for sub_dir in sub_dirs:\n",
    "    label_dir = os.path.join(root_dir, sub_dir, 'labels')\n",
    "\n",
    "    for filename in os.listdir(label_dir):\n",
    "        if filename.endswith(\".json\"):\n",
    "            file_path = os.path.join(label_dir, filename)\n",
    "            with open(file_path, 'r') as file:\n",
    "                data = json.load(file)\n",
    "                if 'Annotation' in data:\n",
    "                    for obj in data['Annotation']:\n",
    "                        data_num += 1\n",
    "                        if len(obj['data']) != 4:\n",
    "                            print(f\"File: {file_path}\")\n",
    "                            print(f\"data: {obj['data']}\\n\")\n",
    "                        else:\n",
    "                            data_num_count += 1\n",
    "                else:\n",
    "                    print(f\"File: {file_path} does not contain 'Annotation' key.\\n\")\n",
    "\n",
    "print(f\"bbox 데이터 {data_num} 중 {data_num_count}개 정상(좌표 4개로 이루어짐)\")\n",
    "if data_num == data_num_count:\n",
    "    print(\"bbox 데이터에 문제 없음\")\n",
    "else:\n",
    "    print(\"bbox 데이터에 문제 있음\")"
   ]
  },
  {
   "cell_type": "code",
   "execution_count": 4,
   "metadata": {},
   "outputs": [],
   "source": [
    "# 모든 JSON 파일을 YOLO 형식의 txt로 변환 후 이미지와 함께 새로운 디렉토리로 복사\n",
    "\n",
    "for sub_dir in sub_dirs:\n",
    "    label_dir = os.path.join(root_dir, sub_dir, 'labels')\n",
    "    image_dir = os.path.join(root_dir, sub_dir, 'images')\n",
    "    new_label_dir = label_dir.replace('2DBB', 'Preprocessed_2DBB')\n",
    "    new_image_dir = image_dir.replace('2DBB', 'Preprocessed_2DBB')\n",
    "    \n",
    "    os.makedirs(new_label_dir, exist_ok=True)\n",
    "    os.makedirs(new_image_dir, exist_ok=True)\n",
    "\n",
    "    for filename in os.listdir(label_dir):\n",
    "        if filename.endswith(\".json\"):\n",
    "            file_path = os.path.join(label_dir, filename)\n",
    "            with open(file_path, 'r') as file:\n",
    "                #print(f\"File: {file_path}\")\n",
    "                yolo_annotations = []\n",
    "                data = json.load(file)\n",
    "                img_width, img_height = data['image_size']\n",
    "\n",
    "                for annotation in data['Annotation']:\n",
    "                    class_name = annotation['class_name']\n",
    "                    class_id = class_mapping.get(class_name, -1)\n",
    "                    x_min, y_min, x_max, y_max = annotation['data']\n",
    "\n",
    "                    x_center = (x_min + x_max) / 2 / img_width\n",
    "                    y_center = (y_min + y_max) / 2 / img_height\n",
    "                    width = (x_max - x_min) / img_width\n",
    "                    height = (y_max - y_min) / img_height\n",
    "\n",
    "                    yolo_annotation = [class_id, x_center, y_center, width, height]\n",
    "\n",
    "                    yolo_annotations.append(yolo_annotation)\n",
    "            \n",
    "            # 텍스트 파일로 저장\n",
    "            output_file = os.path.splitext(filename)[0] + '.txt'\n",
    "            output_path = os.path.join(new_label_dir, output_file)\n",
    "\n",
    "            with open(output_path, 'w') as outfile:\n",
    "                for annotation in yolo_annotations:\n",
    "                    outfile.write(' '.join(map(str, annotation)) + '\\n')\n",
    "                    \n",
    "            image_file = os.path.splitext(filename)[0] + '.jpg'\n",
    "            source_image_path = os.path.join(image_dir, image_file)\n",
    "            target_image_path = os.path.join(new_image_dir, image_file)\n",
    "            \n",
    "            if os.path.isfile(source_image_path) == True:\n",
    "                shutil.copyfile(source_image_path, target_image_path)\n",
    "                \n",
    "                #print(f'image 저장: {target_image_path}')\n",
    "                #print(f'label 저장: {output_path} \\n')"
   ]
  },
  {
   "cell_type": "code",
   "execution_count": 5,
   "metadata": {},
   "outputs": [
    {
     "name": "stdout",
     "output_type": "stream",
     "text": [
      "디렉토리: training\n",
      "삭제할 이미지: ['S_DRG_230629_008_FC_069.txt', 'S_DRG_230629_008_FR_014.txt', 'S_DRG_230629_008_RR_099.txt', 'S_DRG_230629_008_FL_079.txt', 'S_DRG_230629_009_RR_043.txt', 'S_DRG_230629_008_RL_079.txt', 'S_DRG_230629_009_FR_117.txt', 'S_DRG_230629_008_FR_010.txt', 'S_DRG_230629_009_RL_043.txt', 'S_DRG_230629_008_FC_078.txt', 'S_DRG_230629_009_FL_071.txt', 'S_DRG_230629_008_FL_052.txt', 'S_DRG_230629_009_RL_071.txt', 'S_DRG_230629_008_FC_067.txt', 'S_DRG_230629_009_RL_050.txt', 'S_DRG_230629_009_FC_026.txt', 'S_DRG_230629_009_RL_116.txt', 'S_DRG_230629_009_FR_010.txt', 'S_DRG_230629_009_FR_112.txt', 'S_DRG_230629_009_RR_105.txt', 'S_DRG_230629_009_FL_115.txt', 'S_DRG_230629_008_FL_031.txt', 'S_DRG_230629_009_RL_110.txt', 'S_DRG_230629_008_RL_098.txt', 'S_DRG_230629_008_FL_093.txt', 'S_DRG_230629_009_RR_046.txt', 'S_DRG_230629_008_FC_055.txt', 'S_DRG_230629_008_FL_020.txt', 'S_DRG_230629_009_FC_054.txt', 'S_DRG_230629_008_RR_106.txt', 'S_DRG_230629_009_RR_100.txt', 'S_DRG_230629_008_FL_099.txt', 'S_DRG_230629_008_FC_066.txt', 'S_DRG_230629_008_RR_014.txt', 'S_DRG_230629_008_FC_059.txt', 'S_DRG_230629_008_FC_029.txt', 'S_DRG_230629_009_FR_095.txt', 'S_DRG_230629_008_RL_033.txt', 'S_DRG_230629_009_RL_034.txt', 'S_DRG_230629_009_FC_050.txt', 'S_DRG_230629_008_FC_077.txt', 'S_DRG_230629_009_FC_005.txt', 'S_DRG_230629_008_FL_033.txt', 'S_DRG_230629_009_RL_082.txt', 'S_DRG_230629_009_FL_065.txt', 'S_DRG_230629_008_RL_038.txt', 'S_DRG_230629_009_RL_069.txt', 'S_DRG_230629_008_FC_085.txt', 'S_DRG_230629_009_RL_094.txt', 'S_DRG_230629_008_FL_064.txt', 'S_DRG_230629_008_RL_086.txt', 'S_DRG_230629_008_FL_098.txt', 'S_DRG_230629_009_RR_065.txt', 'S_DRG_230629_009_FL_058.txt', 'S_DRG_230629_009_RR_103.txt', 'S_DRG_230629_008_RL_107.txt', 'S_DRG_230629_009_FC_043.txt', 'S_DRG_230629_008_RL_011.txt', 'S_DRG_230629_008_FC_035.txt', 'S_DRG_230629_008_RL_018.txt', 'S_DRG_230629_009_FC_018.txt', 'S_DRG_230629_008_FC_114.txt', 'S_DRG_230629_008_FL_082.txt', 'S_DRG_230629_009_RL_053.txt', 'S_DRG_230629_009_RL_079.txt', 'S_DRG_230629_009_FR_111.txt', 'S_DRG_230629_009_FR_012.txt', 'S_DRG_230629_009_FL_094.txt', 'S_DRG_230629_008_FL_073.txt', 'S_DRG_230629_009_RL_085.txt', 'S_DRG_230629_009_FC_083.txt', 'S_DRG_230629_008_FL_076.txt', 'S_DRG_230629_009_FL_011.txt', 'S_DRG_230629_009_FL_107.txt', 'S_DRG_230629_008_FC_104.txt', 'S_DRG_230629_008_FL_021.txt', 'S_DRG_230629_008_FL_084.txt', 'S_DRG_230629_009_RR_108.txt', 'S_DRG_230629_009_FC_114.txt', 'S_DRG_230629_008_RL_035.txt', 'S_DRG_230629_009_FC_017.txt', 'S_DRG_230629_008_FL_040.txt', 'S_DRG_230629_008_RR_082.txt', 'S_DRG_230629_008_FL_100.txt', 'S_DRG_230629_008_RR_092.txt', 'S_DRG_230629_009_RR_042.txt', 'S_DRG_230629_009_RL_089.txt', 'S_DRG_230629_009_RL_036.txt', 'S_DRG_230629_008_FC_094.txt', 'S_DRG_230629_009_RR_092.txt', 'S_DRG_230629_008_RL_020.txt', 'S_DRG_230629_008_RR_043.txt', 'S_DRG_230629_008_FC_006.txt', 'S_DRG_230629_009_FC_004.txt', 'S_DRG_230629_008_FR_008.txt', 'S_DRG_230629_009_FL_085.txt', 'S_DRG_230629_009_RL_015.txt', 'S_DRG_230629_009_RR_039.txt', 'S_DRG_230629_008_RL_016.txt', 'S_DRG_230629_008_FC_014.txt', 'S_DRG_230629_009_RR_020.txt', 'S_DRG_230629_009_RR_055.txt', 'S_DRG_230629_009_FC_028.txt', 'S_DRG_230629_008_RR_085.txt', 'S_DRG_230629_008_FC_054.txt', 'S_DRG_230629_008_FC_093.txt', 'S_DRG_230629_008_FR_035.txt', 'S_DRG_230629_008_FL_003.txt', 'S_DRG_230629_008_FL_060.txt', 'S_DRG_230629_008_FL_010.txt', 'S_DRG_230629_009_RL_012.txt', 'S_DRG_230629_008_RR_091.txt', 'S_DRG_230629_009_FR_001.txt', 'S_DRG_230629_009_FC_041.txt', 'S_DRG_230629_009_FL_057.txt', 'S_DRG_230629_009_FC_079.txt', 'S_DRG_230629_009_FC_016.txt', 'S_DRG_230629_009_RL_032.txt', 'S_DRG_230629_008_RR_049.txt', 'S_DRG_230629_008_RL_031.txt', 'S_DRG_230629_009_RL_115.txt', 'S_DRG_230629_009_RR_106.txt', 'S_DRG_230629_009_RL_063.txt', 'S_DRG_230629_009_FL_089.txt', 'S_DRG_230629_009_FR_088.txt', 'S_DRG_230629_009_FL_037.txt', 'S_DRG_230629_008_FR_020.txt', 'S_DRG_230629_009_RR_109.txt', 'S_DRG_230629_008_RR_052.txt', 'S_DRG_230629_008_RR_011.txt', 'S_DRG_230629_008_RR_062.txt', 'S_DRG_230629_008_RL_004.txt', 'S_DRG_230629_009_RL_003.txt', 'S_DRG_230629_009_FC_065.txt', 'S_DRG_230629_008_FL_049.txt', 'S_DRG_230629_008_RL_088.txt', 'S_DRG_230629_008_FC_007.txt', 'S_DRG_230629_008_RL_087.txt', 'S_DRG_230629_008_FL_018.txt', 'S_DRG_230629_009_FC_053.txt', 'S_DRG_230629_009_RL_095.txt', 'S_DRG_230629_009_FL_106.txt', 'S_DRG_230629_008_RR_040.txt', 'S_DRG_230629_009_FL_012.txt', 'S_DRG_230629_009_RR_050.txt', 'S_DRG_230629_009_RR_000.txt', 'S_DRG_230629_008_RR_069.txt', 'S_DRG_230629_009_FC_111.txt', 'S_DRG_230629_009_FL_067.txt', 'S_DRG_230629_008_FC_042.txt', 'S_DRG_230629_009_FR_114.txt', 'S_DRG_230629_008_RR_103.txt', 'S_DRG_230629_008_FC_107.txt', 'S_DRG_230629_008_FL_006.txt', 'S_DRG_230629_009_RL_081.txt', 'S_DRG_230629_009_FC_015.txt', 'S_DRG_230629_009_RR_053.txt', 'S_DRG_230629_009_RL_035.txt', 'S_DRG_230629_009_RR_079.txt', 'S_DRG_230629_009_FL_083.txt', 'S_DRG_230629_009_FL_088.txt', 'S_DRG_230629_009_FR_008.txt', 'S_DRG_230629_009_RR_032.txt', 'S_DRG_230629_008_RL_041.txt', 'S_DRG_230629_008_RL_052.txt', 'S_DRG_230629_009_FR_086.txt', 'S_DRG_230629_008_RR_008.txt', 'S_DRG_230629_009_RR_083.txt', 'S_DRG_230629_009_RR_107.txt', 'S_DRG_230629_009_RL_113.txt', 'S_DRG_230629_008_RR_055.txt', 'S_DRG_230629_008_RR_033.txt', 'S_DRG_230629_009_RL_080.txt', 'S_DRG_230629_008_RL_001.txt', 'S_DRG_230629_009_RL_030.txt', 'S_DRG_230629_008_RL_032.txt', 'S_DRG_230629_008_FL_037.txt', 'S_DRG_230629_008_FC_070.txt', 'S_DRG_230629_009_FL_010.txt', 'S_DRG_230629_009_RR_036.txt', 'S_DRG_230629_009_RL_025.txt', 'S_DRG_230629_009_FL_004.txt', 'S_DRG_230629_008_RR_060.txt', 'S_DRG_230629_009_RR_008.txt', 'S_DRG_230629_009_RL_037.txt', 'S_DRG_230629_008_RR_026.txt', 'S_DRG_230629_009_FL_066.txt', 'S_DRG_230629_008_FL_028.txt', 'S_DRG_230629_008_FL_014.txt', 'S_DRG_230629_008_RL_049.txt', 'S_DRG_230629_009_RR_115.txt', 'S_DRG_230629_008_FL_086.txt', 'S_DRG_230629_008_FC_064.txt', 'S_DRG_230629_009_RR_038.txt', 'S_DRG_230629_009_RL_091.txt', 'S_DRG_230629_008_RL_012.txt', 'S_DRG_230629_009_RL_005.txt', 'S_DRG_230629_009_FC_031.txt', 'S_DRG_230629_009_RL_068.txt', 'S_DRG_230629_009_FL_030.txt', 'S_DRG_230629_009_RR_099.txt', 'S_DRG_230629_009_FC_101.txt', 'S_DRG_230629_008_RR_035.txt', 'S_DRG_230629_009_RL_041.txt', 'S_DRG_230629_009_RL_087.txt', 'S_DRG_230629_008_FC_049.txt', 'S_DRG_230629_009_FC_022.txt', 'S_DRG_230629_008_RR_064.txt', 'S_DRG_230629_008_RR_042.txt', 'S_DRG_230629_008_FC_112.txt', 'S_DRG_230629_009_FL_078.txt', 'S_DRG_230629_009_RL_109.txt', 'S_DRG_230629_008_RR_012.txt', 'S_DRG_230629_008_FC_034.txt', 'S_DRG_230629_009_FC_088.txt', 'S_DRG_230629_009_FL_113.txt', 'S_DRG_230629_008_RL_108.txt', 'S_DRG_230629_008_RL_069.txt', 'S_DRG_230629_009_RR_102.txt', 'S_DRG_230629_008_RL_044.txt', 'S_DRG_230629_009_RL_064.txt', 'S_DRG_230629_009_FC_021.txt', 'S_DRG_230629_008_RR_107.txt', 'S_DRG_230629_008_RL_024.txt', 'S_DRG_230629_008_FL_056.txt', 'S_DRG_230629_008_RR_113.txt', 'S_DRG_230629_008_RL_075.txt', 'S_DRG_230629_009_FL_006.txt', 'S_DRG_230629_008_FR_000.txt', 'S_DRG_230629_009_FL_001.txt', 'S_DRG_230629_009_FL_000.txt', 'S_DRG_230629_008_RL_106.txt', 'S_DRG_230629_009_FR_006.txt', 'S_DRG_230629_008_RL_084.txt', 'S_DRG_230629_009_RL_117.txt', 'S_DRG_230629_008_FC_039.txt', 'S_DRG_230629_008_RL_014.txt', 'S_DRG_230629_008_FC_018.txt', 'S_DRG_230629_008_FL_050.txt', 'S_DRG_230629_009_RR_024.txt', 'S_DRG_230629_009_FL_072.txt', 'S_DRG_230629_009_FC_006.txt', 'S_DRG_230629_009_FL_028.txt', 'S_DRG_230629_008_FC_062.txt', 'S_DRG_230629_008_FL_044.txt', 'S_DRG_230629_009_FL_013.txt', 'S_DRG_230629_008_FL_083.txt', 'S_DRG_230629_008_RR_041.txt', 'S_DRG_230629_008_FL_104.txt', 'S_DRG_230629_008_RL_064.txt', 'S_DRG_230629_009_RR_031.txt', 'S_DRG_230629_008_FL_025.txt', 'S_DRG_230629_008_FC_017.txt', 'S_DRG_230629_009_RL_033.txt', 'S_DRG_230629_009_FL_018.txt', 'S_DRG_230629_008_RR_084.txt', 'S_DRG_230629_008_RR_071.txt', 'S_DRG_230629_009_FL_020.txt', 'S_DRG_230629_008_FL_106.txt', 'S_DRG_230629_008_RL_112.txt', 'S_DRG_230629_008_RL_099.txt']\n",
      "총 261개의 파일을 삭제했습니다.\n",
      "\n",
      "디렉토리: validation\n",
      "삭제할 이미지: ['S_DRG_230629_009_FC_115.txt', 'S_DRG_230629_009_RL_009.txt', 'S_DRG_230629_008_FC_031.txt', 'S_DRG_230629_008_FR_012.txt', 'S_DRG_230629_009_FC_094.txt', 'S_DRG_230629_008_FL_096.txt', 'S_DRG_230629_009_FC_107.txt', 'S_DRG_230629_008_FL_017.txt', 'S_DRG_230629_008_FC_083.txt', 'S_DRG_230629_009_FL_110.txt', 'S_DRG_230629_009_RL_075.txt', 'S_DRG_230629_009_RL_017.txt', 'S_DRG_230629_009_FC_110.txt', 'S_DRG_230629_009_RL_031.txt', 'S_DRG_230629_009_RL_062.txt', 'S_DRG_230629_009_RL_045.txt', 'S_DRG_230629_008_RL_040.txt', 'S_DRG_230629_008_FC_028.txt', 'S_DRG_230629_009_RL_059.txt', 'S_DRG_230629_008_FL_045.txt', 'S_DRG_230629_009_RR_014.txt', 'S_DRG_230629_009_FL_069.txt', 'S_DRG_230629_009_FL_051.txt', 'S_DRG_230629_009_RR_077.txt', 'S_DRG_230629_009_RR_028.txt', 'S_DRG_230629_009_RR_090.txt', 'S_DRG_230629_009_RR_084.txt', 'S_DRG_230629_008_FC_025.txt', 'S_DRG_230629_008_FR_021.txt', 'S_DRG_230629_009_RR_029.txt', 'S_DRG_230629_009_FC_105.txt', 'S_DRG_230629_009_RL_046.txt', 'S_DRG_230629_009_FL_050.txt', 'S_DRG_230629_008_RR_109.txt', 'S_DRG_230629_008_RL_102.txt']\n",
      "총 35개의 파일을 삭제했습니다.\n",
      "\n",
      "디렉토리: test\n",
      "삭제할 이미지: ['S_DRG_230629_008_RR_046.txt', 'S_DRG_230629_008_RR_047.txt', 'S_DRG_230629_009_FL_017.txt', 'S_DRG_230629_008_FC_027.txt', 'S_DRG_230629_009_RR_064.txt', 'S_DRG_230629_009_RL_019.txt', 'S_DRG_230629_008_FC_072.txt', 'S_DRG_230629_008_RR_025.txt', 'S_DRG_230629_009_FL_047.txt', 'S_DRG_230629_009_RL_058.txt', 'S_DRG_230629_008_FC_115.txt', 'S_DRG_230629_008_RR_004.txt', 'S_DRG_230629_008_RL_003.txt', 'S_DRG_230629_009_RL_028.txt', 'S_DRG_230629_009_RR_061.txt', 'S_DRG_230629_008_FR_036.txt', 'S_DRG_230629_009_RR_086.txt', 'S_DRG_230629_008_RL_096.txt', 'S_DRG_230629_008_RL_083.txt', 'S_DRG_230629_008_RR_034.txt', 'S_DRG_230629_008_FC_111.txt', 'S_DRG_230629_009_RR_012.txt', 'S_DRG_230629_008_RR_013.txt', 'S_DRG_230629_009_RL_090.txt', 'S_DRG_230629_008_RL_025.txt', 'S_DRG_230629_009_RR_033.txt', 'S_DRG_230629_009_FC_070.txt', 'S_DRG_230629_008_RR_032.txt', 'S_DRG_230629_008_FL_019.txt', 'S_DRG_230629_009_RR_049.txt', 'S_DRG_230629_009_RL_020.txt']\n",
      "총 31개의 파일을 삭제했습니다.\n",
      "\n"
     ]
    }
   ],
   "source": [
    "# 이미지 파일 중 txt가 없는 결측 파일 확인 후 삭제\n",
    "\n",
    "for sub_dir in sub_dirs:\n",
    "    label_dir = os.path.join(preprocessed_root_dir, sub_dir, 'labels')\n",
    "    image_dir = os.path.join(preprocessed_root_dir, sub_dir, 'images')\n",
    "    \n",
    "    label_filenames = os.listdir(label_dir)\n",
    "    image_filenames = os.listdir(image_dir)\n",
    "\n",
    "    missing_images = [filename for filename in label_filenames if os.path.splitext(filename)[0] + '.jpg' not in image_filenames]\n",
    "    \n",
    "    print(f\"디렉토리: {sub_dir}\")\n",
    "    print(\"삭제할 이미지:\", missing_images)\n",
    "    \n",
    "    file_num = 0\n",
    "    for filename in missing_images:\n",
    "        file_path = os.path.join(label_dir, filename)\n",
    "        os.remove(file_path)\n",
    "        file_num += 1\n",
    "    print(f\"총 {file_num}개의 파일을 삭제했습니다.\")\n",
    "    print('')"
   ]
  },
  {
   "cell_type": "code",
   "execution_count": 6,
   "metadata": {},
   "outputs": [
    {
     "name": "stdout",
     "output_type": "stream",
     "text": [
      "디렉토리: training\n",
      "images 개수: 79739\n",
      "labels 개수: 79739\n",
      "\n",
      "디렉토리: validation\n",
      "images 개수: 9965\n",
      "labels 개수: 9965\n",
      "\n",
      "디렉토리: test\n",
      "images 개수: 9969\n",
      "labels 개수: 9969\n",
      "\n"
     ]
    }
   ],
   "source": [
    "# 디렉토리 안의 파일 개수 확인\n",
    "\n",
    "for sub_dir in sub_dirs:\n",
    "    images_dir = os.path.join(preprocessed_root_dir, sub_dir, \"images\")\n",
    "    labels_dir = os.path.join(preprocessed_root_dir, sub_dir, \"labels\")\n",
    "    \n",
    "    images_count = len(os.listdir(images_dir))\n",
    "    labels_count = len(os.listdir(labels_dir))\n",
    "    \n",
    "    print(f\"디렉토리: {sub_dir}\")\n",
    "    print(f\"images 개수: {images_count}\")\n",
    "    print(f\"labels 개수: {labels_count}\")\n",
    "    print('')"
   ]
  },
  {
   "cell_type": "code",
   "execution_count": 10,
   "metadata": {},
   "outputs": [
    {
     "name": "stdout",
     "output_type": "stream",
     "text": [
      "dataset/Preprocessed_2DBB/data.yaml가 생성되었습니다.\n"
     ]
    }
   ],
   "source": [
    "# data.yaml 파일 생성\n",
    "\n",
    "file_path = os.path.join(preprocessed_root_dir,'data.yaml')\n",
    "train_path = '../training/images'\n",
    "val_path = '../validation/images'\n",
    "test_path = '../test/images'\n",
    "\n",
    "data = f'''train: {train_path}\n",
    "val: {val_path}\n",
    "test: {test_path}\n",
    "\n",
    "nc: {len(yaml_class)}\n",
    "names: {yaml_class}\n",
    "'''\n",
    "\n",
    "with open(file_path, 'w') as file:\n",
    "    file.write(data)\n",
    "\n",
    "print(f\"{file_path}가 생성되었습니다.\")"
   ]
  },
  {
   "cell_type": "code",
   "execution_count": null,
   "metadata": {},
   "outputs": [],
   "source": []
  }
 ],
 "metadata": {
  "kernelspec": {
   "display_name": "2DBB",
   "language": "python",
   "name": "python3"
  },
  "language_info": {
   "codemirror_mode": {
    "name": "ipython",
    "version": 3
   },
   "file_extension": ".py",
   "mimetype": "text/x-python",
   "name": "python",
   "nbconvert_exporter": "python",
   "pygments_lexer": "ipython3",
   "version": "3.10.14"
  }
 },
 "nbformat": 4,
 "nbformat_minor": 2
}
