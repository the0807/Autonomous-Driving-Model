{
 "cells": [
  {
   "cell_type": "code",
   "execution_count": null,
   "metadata": {},
   "outputs": [],
   "source": []
  },
  {
   "cell_type": "code",
   "execution_count": 3,
   "metadata": {},
   "outputs": [],
   "source": [
    "import os\n",
    "import json"
   ]
  },
  {
   "cell_type": "code",
   "execution_count": 18,
   "metadata": {},
   "outputs": [
    {
     "name": "stdout",
     "output_type": "stream",
     "text": [
      "bbox 데이터 중 532152/532152 정상 (좌표 4개로 이루어짐)\n",
      "bbox 데이터에 문제 없음\n"
     ]
    }
   ],
   "source": [
    "# 데이터 셋의 루트 디렉토리 설정\n",
    "root_dir = \"dataset/2DBB\"\n",
    "\n",
    "# 'labels' 디렉토리가 포함된 하위 디렉토리들\n",
    "sub_dirs = [\"training/labels\", \"validation/labels\", \"test/labels\"]\n",
    "\n",
    "data_num = 0\n",
    "data_num_count = 0\n",
    "\n",
    "# 모든 JSON 파일을 탐색하고 'Annotation' 값을 추출\n",
    "for sub_dir in sub_dirs:\n",
    "    label_dir = os.path.join(root_dir, sub_dir)\n",
    "    for filename in os.listdir(label_dir):\n",
    "        if filename.endswith(\".json\"):\n",
    "            file_path = os.path.join(label_dir, filename)\n",
    "            with open(file_path, 'r') as file:\n",
    "                data = json.load(file)\n",
    "                if 'Annotation' in data:\n",
    "                    for obj in data['Annotation']:\n",
    "                        data_num += 1\n",
    "                        if len(obj['data']) != 4:\n",
    "                            print(f\"File: {file_path}\")\n",
    "                            print(f\"data: {obj['data']}\\n\")\n",
    "                        else:\n",
    "                            data_num_count += 1\n",
    "                else:\n",
    "                    print(f\"File: {file_path} does not contain 'Annotation' key.\\n\")\n",
    "\n",
    "print(f\"bbox 데이터 중 {data_num}/{data_num_count} 정상 (좌표 4개로 이루어짐)\")\n",
    "if data_num == data_num_count:\n",
    "    print(\"bbox 데이터에 문제 없음\")\n",
    "else:\n",
    "    print(\"bbox 데이터에 문제 있음\")"
   ]
  },
  {
   "cell_type": "code",
   "execution_count": null,
   "metadata": {},
   "outputs": [],
   "source": []
  }
 ],
 "metadata": {
  "kernelspec": {
   "display_name": "2DBB",
   "language": "python",
   "name": "python3"
  },
  "language_info": {
   "codemirror_mode": {
    "name": "ipython",
    "version": 3
   },
   "file_extension": ".py",
   "mimetype": "text/x-python",
   "name": "python",
   "nbconvert_exporter": "python",
   "pygments_lexer": "ipython3",
   "version": "3.10.14"
  }
 },
 "nbformat": 4,
 "nbformat_minor": 2
}
